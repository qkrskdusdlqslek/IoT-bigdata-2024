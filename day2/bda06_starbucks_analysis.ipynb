{
 "cells": [
  {
   "cell_type": "markdown",
   "metadata": {},
   "source": [
    "### 스타벅스 매장 입지 분석\n",
    "- 순서\n",
    "    1. 데이터 수집\n",
    "    2. 데이터 전처리\n",
    "    3. 분석\n",
    "    4. 시각화\n",
    "    \n",
    "#### 데이터 수집\n",
    "- 셀레니움 자동화 + 뷰티풀수프 정제"
   ]
  },
  {
   "cell_type": "code",
   "execution_count": 1,
   "metadata": {},
   "outputs": [],
   "source": [
    "# 필요 라이브러리 사용\n",
    "from selenium import webdriver\n",
    "from selenium.webdriver.common.by import By\n",
    "from bs4 import BeautifulSoup"
   ]
  },
  {
   "cell_type": "code",
   "execution_count": 4,
   "metadata": {},
   "outputs": [],
   "source": [
    "# 분석, 시각화 라이브러리 사용\n",
    "import pandas as pd\n",
    "import numpy as np\n",
    "import matplotlib.pyplot as plt\n",
    "from matplotlib import rcParams, rc, font_manager\n",
    "import warnings\n",
    "import seaborn as sns"
   ]
  },
  {
   "cell_type": "code",
   "execution_count": 13,
   "metadata": {},
   "outputs": [],
   "source": [
    "# 맷플롯립 한글 및 기타설정\n",
    "## 맑은 고딕\n",
    "font_path = 'C:/Windows/Fonts/malgun.ttf'\n",
    "font_name = font_manager.FontProperties(fname=font_path).get_name()\n",
    "warnings.simplefilter('ignore') # 경고메시지 출력 숨김\n",
    "\n",
    "## 맷플롯립 설정\n",
    "plt.rcParams['font.family'] = font_name # 폰트설정\n",
    "plt.rcParams['font.size'] = 12 # 글자크기\n",
    "plt.rcParams['figure.figsize'] = (12,6) # (W, H)\n",
    "plt.rcParams['axes.grid'] = True # 차트 가로세로줄 표시\n",
    "plt.rcParams['axes.unicode_minus'] = False # 한글 설정 후 마이너스 깨짐 방지\n",
    "\n",
    "## 시본 설정\n",
    "sns.set_theme(font=font_name, style='darkgrid', rc={'axes.unicode_minus':False})\n"
   ]
  }
 ],
 "metadata": {
  "kernelspec": {
   "display_name": "Python 3",
   "language": "python",
   "name": "python3"
  },
  "language_info": {
   "codemirror_mode": {
    "name": "ipython",
    "version": 3
   },
   "file_extension": ".py",
   "mimetype": "text/x-python",
   "name": "python",
   "nbconvert_exporter": "python",
   "pygments_lexer": "ipython3",
   "version": "3.11.5"
  }
 },
 "nbformat": 4,
 "nbformat_minor": 2
}

{
 "cells": [
  {
   "cell_type": "markdown",
   "metadata": {},
   "source": [
    "### 객체탐지\n",
    "\n",
    "#### 개요\n",
    "- 딥러닝의 CNN(외 RCNN 등)와 같은 알고리즘을 통해서 물체를 인식하여 표시하는 기술\n",
    "- 자동차 번호판 번호 인식, 화재경보, 교통사고 인지, 이상행동 파악 등...\n",
    "- CCTV과 같이 접목해서 활용되는 경우 아주 많음 "
   ]
  },
  {
   "cell_type": "markdown",
   "metadata": {},
   "source": [
    "#### 필요 라이브러리\n",
    "- OpenCV - 최초 인텔에서 개발한 오픈소스 실시간 컴퓨터 비전 라이브러리\n",
    "    - C/C++을 목표로 제작. 크로스 플랫폼\n",
    "    - 파이썬에 OpenCV가 적용되면서 활성화!\n",
    "    - 카메라 인식 산업에서 대부분 사용되고 있음\n",
    "    - C/C++에서 기본 동작코드 2~300줄이면 파이썬에서 10줄이내로 같은 작업을 할 수 있음\n",
    "\n",
    "- YOLO(PyTorch)\n",
    "    - Not You Only Live Once, You Only Look Once!\n",
    "    - 실시간 객체 탐지 시스템\n",
    "    - 2015년에 출시후 현재 2024년 현재 버전 8.0\n",
    "    - OpenCV만 가지고 작업하던 걸, YOLO로 넘어가는 추세"
   ]
  },
  {
   "cell_type": "code",
   "execution_count": 1,
   "metadata": {},
   "outputs": [
    {
     "name": "stdout",
     "output_type": "stream",
     "text": [
      "Collecting opencv-python\n",
      "  Downloading opencv_python-4.10.0.84-cp37-abi3-win_amd64.whl.metadata (20 kB)\n",
      "Requirement already satisfied: numpy>=1.21.2 in c:\\dev\\langs\\python311\\lib\\site-packages (from opencv-python) (1.26.3)\n",
      "Downloading opencv_python-4.10.0.84-cp37-abi3-win_amd64.whl (38.8 MB)\n",
      "   ---------------------------------------- 0.0/38.8 MB ? eta -:--:--\n",
      "   - -------------------------------------- 1.8/38.8 MB 10.0 MB/s eta 0:00:04\n",
      "   ---- ----------------------------------- 4.5/38.8 MB 10.7 MB/s eta 0:00:04\n",
      "   ------- -------------------------------- 7.1/38.8 MB 11.2 MB/s eta 0:00:03\n",
      "   --------- ------------------------------ 9.4/38.8 MB 11.1 MB/s eta 0:00:03\n",
      "   ----------- ---------------------------- 11.5/38.8 MB 11.1 MB/s eta 0:00:03\n",
      "   -------------- ------------------------- 13.9/38.8 MB 11.0 MB/s eta 0:00:03\n",
      "   ---------------- ----------------------- 16.3/38.8 MB 11.1 MB/s eta 0:00:03\n",
      "   ------------------- -------------------- 18.6/38.8 MB 11.2 MB/s eta 0:00:02\n",
      "   --------------------- ------------------ 20.7/38.8 MB 11.0 MB/s eta 0:00:02\n",
      "   ----------------------- ---------------- 22.8/38.8 MB 11.1 MB/s eta 0:00:02\n",
      "   ------------------------- -------------- 25.2/38.8 MB 11.1 MB/s eta 0:00:02\n",
      "   ---------------------------- ----------- 27.8/38.8 MB 11.1 MB/s eta 0:00:01\n",
      "   ------------------------------- -------- 30.1/38.8 MB 11.1 MB/s eta 0:00:01\n",
      "   --------------------------------- ------ 32.5/38.8 MB 11.2 MB/s eta 0:00:01\n",
      "   ----------------------------------- ---- 34.9/38.8 MB 11.2 MB/s eta 0:00:01\n",
      "   -------------------------------------- - 37.2/38.8 MB 11.2 MB/s eta 0:00:01\n",
      "   ---------------------------------------- 38.8/38.8 MB 11.0 MB/s eta 0:00:00\n",
      "Installing collected packages: opencv-python\n",
      "Successfully installed opencv-python-4.10.0.84\n"
     ]
    }
   ],
   "source": [
    "!pip install opencv-python"
   ]
  },
  {
   "cell_type": "code",
   "execution_count": 18,
   "metadata": {},
   "outputs": [],
   "source": [
    "## Window, Mac 전혀 차이가 없음\n",
    "## Raspberry Pi는 최신버전에서 사용법이 변경되었음.\n",
    "import cv2"
   ]
  },
  {
   "cell_type": "code",
   "execution_count": 16,
   "metadata": {},
   "outputs": [],
   "source": [
    "## 이미지 로드\n",
    "img = cv2.imread('./fennec_fox.png')\n",
    "\n",
    "cv2.imshow('Fox', img)\n",
    "cv2.waitKey(0)\n",
    "cv2.destroyAllWindows()"
   ]
  },
  {
   "cell_type": "code",
   "execution_count": null,
   "metadata": {},
   "outputs": [],
   "source": [
    "## 현재 웹캠이 동작 안함\n",
    "video_path = './Mumbai_traffic.mp4'\n",
    "\n",
    "cap = cv2.VideoCapture(video_path)\n",
    "cap.set(3, 640)\n",
    "cap.set(4, 480)\n",
    "\n",
    "while True:\n",
    "    _, img = cap.read() # 실시간으로 화면을 캡쳐 ret(결과정보객체) 보통 사용하지 않아서 _로 변경, img(실시간 이미지)\n",
    "    cv2.imshow('youtube mpeg', img) ## 내부적으로 PyQt로 생성되는 GUI창\n",
    "\n",
    "    if cv2.waitKey(1) == ord('q'): # 키보드 q를 클릭하면\n",
    "        break\n",
    "\n",
    "cap.release() # 자원 해제\n",
    "cv2.destroyAllWindows()"
   ]
  },
  {
   "cell_type": "markdown",
   "metadata": {},
   "source": [
    "#### 이미지 처리"
   ]
  },
  {
   "cell_type": "code",
   "execution_count": 21,
   "metadata": {},
   "outputs": [],
   "source": [
    "img = cv2.imread('./fennec_fox.png')\n",
    "\n",
    "cv2.imshow('Original', img)\n",
    "cv2.waitKey(0) ## 일반 이미지\n",
    "\n",
    "gray = cv2.cvtColor(img, cv2.COLOR_BGR2GRAY)\n",
    "height, width = img.shape[0], img.shape[1]\n",
    "\n",
    "## 정수입력 width/2 => float 문제\n",
    "half_img = cv2.resize(gray, (int(width/2), int(height/2)))\n",
    "# cv2.imshow('Gray', gray) ## 흑백변환\n",
    "cv2.imshow('half', half_img)\n",
    "cv2.waitKey(0) \n",
    "\n",
    "cv2.destroyAllWindows()"
   ]
  },
  {
   "cell_type": "code",
   "execution_count": null,
   "metadata": {},
   "outputs": [],
   "source": [
    "video_path = './Mumbai_traffic.mp4'\n",
    "\n",
    "cap = cv2.VideoCapture(video_path)\n",
    "cap.set(3, 640)\n",
    "cap.set(4, 480)\n",
    "\n",
    "while True:\n",
    "    _, img = cap.read() # 실시간으로 화면을 캡쳐 ret(결과정보객체) 보통 사용하지 않아서 _로 변경, img(실시간 이미지)\n",
    "    cv2.imshow('youtube mpeg', img) ## 내부적으로 PyQt로 생성되는 GUI창\n",
    "    height, width = img.shape[0], img.shape[1]\n",
    "    gray = cv2.cvtColor(img, cv2.COLOR_BAYER_BG2GRAY) ## 컬러를 흑백으로\n",
    "    half_img = cv2.resize(gray, (int(width/2), int(height/2))) ## 사이즈 반으로 축소\n",
    "    cv2.imshow('youtube gray', gray)\n",
    "\n",
    "    if cv2.waitKey(1) == ord('q'): # 키보드 q를 클릭하면\n",
    "        break\n",
    "\n",
    "cap.release() # 자원 해제\n",
    "cv2.destroyAllWindows()"
   ]
  },
  {
   "cell_type": "markdown",
   "metadata": {},
   "source": [
    "- 포토샵 등의 이미지, 프리미엄등의 동영상 처리하는 프로그램에서 사용하는 거의 대부분의 기능이 OpenCV에 포함되어 있음"
   ]
  },
  {
   "cell_type": "code",
   "execution_count": null,
   "metadata": {},
   "outputs": [],
   "source": [
    "video_path = './mbc_news.mp4'\n",
    "\n",
    "faceCascade = cv2.CascadeClassifier('./haarcascade_frontalface_default.xml')\n",
    "cap = cv2.VideoCapture(video_path) # 0~숫자는 카메라 번호\n",
    "\n",
    "while True:\n",
    "    _, img = cap.read() # 실시간으로 화면을 캡쳐 ret(결과정보객체) 보통 사용하지 않아서 _로 변경, img(실시간 이미지)\n",
    "    if not ret: \n",
    "        continue\n",
    "    height, width = img.shape[0], img.shape[1]\n",
    "\n",
    "    half = cv2.resize(img, (int(width/2), int(height/2)))\n",
    "\n",
    "    # 얼굴인식\n",
    "    faces = faceCascade.detectMultiScale(\n",
    "        half,\n",
    "        scaleFactor = 2.0,\n",
    "        minNeighbors = 5,\n",
    "        minSize = (10,10)\n",
    "    )\n",
    "\n",
    "    ## 찾은 얼굴 위치 표시\n",
    "    for(x,y,w,h) in faces:\n",
    "        cv2.rectangle(half, (x,y),(x+w, y+h),(255,0,0),2)\n",
    "        roi_color = half[y:y+h, x:x+w]\n",
    "\n",
    "    cv2.imshow('youtube mpeg', half) ## 내부적으로 PyQt로 생성되는 GUI창\n",
    "\n",
    "    if cv2.waitKey(1) == ord('q'): # 키보드 q를 클릭하면\n",
    "        break\n",
    "\n",
    "cap.release() # 자원 해제\n",
    "cv2.destroyAllWindows()"
   ]
  }
 ],
 "metadata": {
  "kernelspec": {
   "display_name": "Python 3",
   "language": "python",
   "name": "python3"
  },
  "language_info": {
   "codemirror_mode": {
    "name": "ipython",
    "version": 3
   },
   "file_extension": ".py",
   "mimetype": "text/x-python",
   "name": "python",
   "nbconvert_exporter": "python",
   "pygments_lexer": "ipython3",
   "version": "3.11.5"
  }
 },
 "nbformat": 4,
 "nbformat_minor": 2
}
